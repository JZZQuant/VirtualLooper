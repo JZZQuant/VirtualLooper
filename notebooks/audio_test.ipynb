{
 "cells": [
  {
   "cell_type": "code",
   "execution_count": 1,
   "metadata": {},
   "outputs": [
    {
     "name": "stdout",
     "output_type": "stream",
     "text": [
      "pygame 1.9.6\n",
      "Hello from the pygame community. https://www.pygame.org/contribute.html\n"
     ]
    }
   ],
   "source": [
    "import pygame\n",
    "import pygame.midi"
   ]
  },
  {
   "cell_type": "code",
   "execution_count": 2,
   "metadata": {},
   "outputs": [],
   "source": [
    "pygame.midi.init()"
   ]
  },
  {
   "cell_type": "code",
   "execution_count": 3,
   "metadata": {},
   "outputs": [
    {
     "name": "stdout",
     "output_type": "stream",
     "text": [
      "0 : (b'CoreMIDI', b'VMPK Output', 1, 0, 0) \n",
      "1 : (b'CoreMIDI', b'VMPK Input', 0, 1, 0) \n"
     ]
    }
   ],
   "source": [
    "for i in range(pygame.midi.get_count()):\n",
    "    print(\"%d : %s \" % (i,pygame.midi.get_device_info(i)))"
   ]
  },
  {
   "cell_type": "code",
   "execution_count": 5,
   "metadata": {},
   "outputs": [],
   "source": [
    "midi = pygame.midi.Input(0)"
   ]
  },
  {
   "cell_type": "code",
   "execution_count": 38,
   "metadata": {},
   "outputs": [
    {
     "name": "stdout",
     "output_type": "stream",
     "text": [
      "[[[144, 76, 100, 0], -200171388]]\n",
      "[[[128, 76, 0, 0], -200171388]]\n",
      "[[[144, 72, 100, 0], -200171388]]\n",
      "[[[128, 72, 0, 0], -200171388]]\n",
      "[[[144, 71, 100, 0], -200171388]]\n",
      "[[[128, 71, 0, 0], -200171388]]\n"
     ]
    }
   ],
   "source": [
    "import datetime\n",
    "a = datetime.datetime.now()\n",
    "b = a + datetime.timedelta(seconds=30)\n",
    "while datetime.datetime.now() < b:\n",
    "    if midi.poll():\n",
    "        print(midi.read(1))"
   ]
  },
  {
   "cell_type": "code",
   "execution_count": null,
   "metadata": {},
   "outputs": [],
   "source": []
  }
 ],
 "metadata": {
  "kernelspec": {
   "display_name": "Python 3",
   "language": "python",
   "name": "python3"
  },
  "language_info": {
   "codemirror_mode": {
    "name": "ipython",
    "version": 3
   },
   "file_extension": ".py",
   "mimetype": "text/x-python",
   "name": "python",
   "nbconvert_exporter": "python",
   "pygments_lexer": "ipython3",
   "version": "3.7.3"
  }
 },
 "nbformat": 4,
 "nbformat_minor": 1
}
