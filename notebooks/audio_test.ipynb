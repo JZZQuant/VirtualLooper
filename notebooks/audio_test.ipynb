{
 "cells": [
  {
   "cell_type": "code",
   "execution_count": 5,
   "metadata": {},
   "outputs": [],
   "source": [
    "import pygame\n",
    "import pygame.midi"
   ]
  },
  {
   "cell_type": "code",
   "execution_count": 6,
   "metadata": {},
   "outputs": [],
   "source": [
    "pygame.midi.init()"
   ]
  },
  {
   "cell_type": "code",
   "execution_count": 7,
   "metadata": {},
   "outputs": [],
   "source": [
    "for i in range(pygame.midi.get_count()):\n",
    "    print(\"%d : %s \" % (i,pygame.midi.get_device_info(i)))"
   ]
  },
  {
   "cell_type": "code",
   "execution_count": 8,
   "metadata": {},
   "outputs": [
    {
     "ename": "MidiException",
     "evalue": "'Device id invalid, out of range.'",
     "output_type": "error",
     "traceback": [
      "\u001B[0;31m---------------------------------------------------------------------------\u001B[0m",
      "\u001B[0;31mMidiException\u001B[0m                             Traceback (most recent call last)",
      "\u001B[0;32m<ipython-input-8-da71281d988a>\u001B[0m in \u001B[0;36m<module>\u001B[0;34m\u001B[0m\n\u001B[0;32m----> 1\u001B[0;31m \u001B[0mmidi\u001B[0m \u001B[0;34m=\u001B[0m \u001B[0mpygame\u001B[0m\u001B[0;34m.\u001B[0m\u001B[0mmidi\u001B[0m\u001B[0;34m.\u001B[0m\u001B[0mInput\u001B[0m\u001B[0;34m(\u001B[0m\u001B[0;36m0\u001B[0m\u001B[0;34m)\u001B[0m\u001B[0;34m\u001B[0m\u001B[0;34m\u001B[0m\u001B[0m\n\u001B[0m",
      "\u001B[0;32m~/workspace/VirtualLooper/venv/lib/python3.7/site-packages/pygame/midi.py\u001B[0m in \u001B[0;36m__init__\u001B[0;34m(self, device_id, buffer_size)\u001B[0m\n\u001B[1;32m    288\u001B[0m                 \u001B[0;32mraise\u001B[0m \u001B[0mMidiException\u001B[0m\u001B[0;34m(\u001B[0m\u001B[0;34m\"Device id given is not a valid input id.\"\u001B[0m\u001B[0;34m)\u001B[0m\u001B[0;34m\u001B[0m\u001B[0;34m\u001B[0m\u001B[0m\n\u001B[1;32m    289\u001B[0m         \u001B[0;32melse\u001B[0m\u001B[0;34m:\u001B[0m\u001B[0;34m\u001B[0m\u001B[0;34m\u001B[0m\u001B[0m\n\u001B[0;32m--> 290\u001B[0;31m             \u001B[0;32mraise\u001B[0m \u001B[0mMidiException\u001B[0m\u001B[0;34m(\u001B[0m\u001B[0;34m\"Device id invalid, out of range.\"\u001B[0m\u001B[0;34m)\u001B[0m\u001B[0;34m\u001B[0m\u001B[0;34m\u001B[0m\u001B[0m\n\u001B[0m\u001B[1;32m    291\u001B[0m \u001B[0;34m\u001B[0m\u001B[0m\n\u001B[1;32m    292\u001B[0m \u001B[0;34m\u001B[0m\u001B[0m\n",
      "\u001B[0;31mMidiException\u001B[0m: 'Device id invalid, out of range.'"
     ]
    }
   ],
   "source": [
    "midi = pygame.midi.Input(0)"
   ]
  },
  {
   "cell_type": "code",
   "execution_count": null,
   "metadata": {},
   "outputs": [],
   "source": [
    "import datetime\n",
    "a = datetime.datetime.now()\n",
    "b = a + datetime.timedelta(seconds=30)\n",
    "while datetime.datetime.now() < b:\n",
    "    if midi.poll():\n",
    "        print(midi.read(1))"
   ]
  },
  {
   "cell_type": "code",
   "execution_count": null,
   "metadata": {},
   "outputs": [],
   "source": []
  }
 ],
 "metadata": {
  "kernelspec": {
   "display_name": "Python 3",
   "language": "python",
   "name": "python3"
  },
  "language_info": {
   "codemirror_mode": {
    "name": "ipython",
    "version": 3
   },
   "file_extension": ".py",
   "mimetype": "text/x-python",
   "name": "python",
   "nbconvert_exporter": "python",
   "pygments_lexer": "ipython3",
   "version": "3.7.5"
  }
 },
 "nbformat": 4,
 "nbformat_minor": 1
}