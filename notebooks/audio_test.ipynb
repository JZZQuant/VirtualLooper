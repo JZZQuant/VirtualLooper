{
 "cells": [
  {
   "cell_type": "code",
   "execution_count": 1,
   "metadata": {},
   "outputs": [
    {
     "name": "stderr",
     "output_type": "stream",
     "text": [
      "Exception ignored in: 'rtmidi._rtmidi._cb_func'\n",
      "TypeError: <lambda>() takes 1 positional argument but 2 were given\n",
      "Exception ignored in: 'rtmidi._rtmidi._cb_func'\n",
      "TypeError: <lambda>() takes 1 positional argument but 2 were given\n"
     ]
    }
   ],
   "source": [
    "import time\n",
    "import rtmidi\n",
    "\n",
    "midi_in = rtmidi.MidiIn()\n",
    "available_ports = midi_in.get_ports()\n",
    "\n",
    "if 'VMPK Output' in available_ports:\n",
    "    midi_in.open_port(available_ports.index('VMPK Output'))\n",
    "\n",
    "\n",
    "midi_in.set_callback(lambda x: print(str(x)+ str(y)))\n",
    "\n"
   ]
  },
  {
   "cell_type": "code",
   "execution_count": null,
   "metadata": {},
   "outputs": [],
   "source": []
  }
 ],
 "metadata": {
  "kernelspec": {
   "display_name": "Python 3",
   "language": "python",
   "name": "python3"
  },
  "language_info": {
   "codemirror_mode": {
    "name": "ipython",
    "version": 3
   },
   "file_extension": ".py",
   "mimetype": "text/x-python",
   "name": "python",
   "nbconvert_exporter": "python",
   "pygments_lexer": "ipython3",
   "version": "3.7.3"
  }
 },
 "nbformat": 4,
 "nbformat_minor": 1
}
